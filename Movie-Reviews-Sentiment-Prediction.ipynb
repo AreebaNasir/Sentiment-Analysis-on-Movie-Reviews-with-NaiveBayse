{
  "nbformat": 4,
  "nbformat_minor": 0,
  "metadata": {
    "colab": {
      "name": "Assignment3_i170052.ipynb",
      "provenance": [],
      "collapsed_sections": []
    },
    "kernelspec": {
      "name": "python3",
      "display_name": "Python 3"
    }
  },
  "cells": [
    {
      "cell_type": "markdown",
      "metadata": {
        "id": "Pce125AU8qip"
      },
      "source": [
        "# **TASK 1(Naive Bayse)**\n",
        "\n",
        "### Predicting Movie Reviews Sentiment using Naive Bayse\n",
        "\n",
        "\n",
        "> Indented block\n",
        "\n",
        "\n",
        "\n",
        "\n",
        "\n"
      ]
    },
    {
      "cell_type": "markdown",
      "metadata": {
        "id": "FcUe9D9sq1uU"
      },
      "source": [
        "# **Load Dataset from Google drive**"
      ]
    },
    {
      "cell_type": "code",
      "metadata": {
        "id": "AcoOmsa-e8Z-"
      },
      "source": [
        "import collections"
      ],
      "execution_count": null,
      "outputs": []
    },
    {
      "cell_type": "code",
      "metadata": {
        "id": "BdACgNtJXKlF"
      },
      "source": [
        "import glob\n",
        "\n",
        "# Importing drive method from colab for accessing google drive\n",
        "from google.colab import drive"
      ],
      "execution_count": null,
      "outputs": []
    },
    {
      "cell_type": "code",
      "metadata": {
        "id": "k6jdAyG7XPFK",
        "colab": {
          "base_uri": "https://localhost:8080/",
          "height": 122
        },
        "outputId": "b2e4f356-683b-4687-e4b6-cd5b442eb98c"
      },
      "source": [
        "# Mounting drive\n",
        "# This will require authentication : Follow the steps as guided\n",
        "drive.mount('/content/drive')"
      ],
      "execution_count": null,
      "outputs": [
        {
          "output_type": "stream",
          "text": [
            "Go to this URL in a browser: https://accounts.google.com/o/oauth2/auth?client_id=947318989803-6bn6qk8qdgf4n4g3pfee6491hc0brc4i.apps.googleusercontent.com&redirect_uri=urn%3aietf%3awg%3aoauth%3a2.0%3aoob&response_type=code&scope=email%20https%3a%2f%2fwww.googleapis.com%2fauth%2fdocs.test%20https%3a%2f%2fwww.googleapis.com%2fauth%2fdrive%20https%3a%2f%2fwww.googleapis.com%2fauth%2fdrive.photos.readonly%20https%3a%2f%2fwww.googleapis.com%2fauth%2fpeopleapi.readonly\n",
            "\n",
            "Enter your authorization code:\n",
            "··········\n",
            "Mounted at /content/drive\n"
          ],
          "name": "stdout"
        }
      ]
    },
    {
      "cell_type": "code",
      "metadata": {
        "id": "adFXPmIYXUrh",
        "colab": {
          "base_uri": "https://localhost:8080/",
          "height": 374
        },
        "outputId": "9b6e164a-d971-4dbb-ce33-4304778eee3f"
      },
      "source": [
        "# Viewing the data in the folder present from the drive\n",
        "!ls \"/content/drive/My Drive/\"\n",
        "\n",
        "#unzip the movie_review folder\n",
        "!unzip -q \"/content/drive/My Drive/movie_reviews.zip\""
      ],
      "execution_count": null,
      "outputs": [
        {
          "output_type": "stream",
          "text": [
            " bb0c9c4a2838ecf.pdf\n",
            "'Capture (1).PNG'\n",
            "'Capture (2).PNG'\n",
            "'Capture (3).PNG'\n",
            "'Capture (4).PNG'\n",
            "'Capture (5).PNG'\n",
            "'Capture (6).PNG'\n",
            " Capture.PNG\n",
            " CASS.zip\n",
            " Classroom\n",
            "'Colab Notebooks'\n",
            " Digital+design_Morris+Mano_5th+edition.pdf\n",
            "'Electronic 11th.pdf'\n",
            " Electronic+Devices+and+Circuit+Theory+by+Robert+L.+Boylestad+11th+ed..pdf\n",
            "'Getting started.pdf'\n",
            "'Meet Recordings'\n",
            " movie_reviews.zip\n",
            "'New folder'\n",
            " plantation.odt\n",
            " Resume_i170052.pdf\n",
            "'Software Engineering by Somerville.gdoc'\n"
          ],
          "name": "stdout"
        }
      ]
    },
    {
      "cell_type": "code",
      "metadata": {
        "id": "QJyehByqtL5J",
        "colab": {
          "base_uri": "https://localhost:8080/",
          "height": 85
        },
        "outputId": "24f2bdbb-95ad-4d0b-c796-f46ce909db91"
      },
      "source": [
        "import os\n",
        "import pandas as pd\n",
        "os.chdir('/content/movie_reviews/large_movie_review_dataset/train/pos')\n",
        "!pwd\n",
        "train_pos = glob.glob(\"/content/movie_reviews/large_movie_review_dataset/train/pos/*.txt\")\n",
        "os.chdir('/content/movie_reviews/large_movie_review_dataset/train/neg')\n",
        "!pwd\n",
        "train_neg = glob.glob(\"/content/movie_reviews/large_movie_review_dataset/train/neg/*.txt\")\n",
        "os.chdir('/content/movie_reviews/large_movie_review_dataset/test/pos')\n",
        "!pwd\n",
        "test_pos = glob.glob(\"/content/movie_reviews/large_movie_review_dataset/test/pos/*.txt\")\n",
        "os.chdir('/content/movie_reviews/large_movie_review_dataset/test/neg')\n",
        "!pwd\n",
        "test_neg = glob.glob(\"/content/movie_reviews/large_movie_review_dataset/test/neg/*.txt\")"
      ],
      "execution_count": null,
      "outputs": [
        {
          "output_type": "stream",
          "text": [
            "/content/movie_reviews/large_movie_review_dataset/train/pos\n",
            "/content/movie_reviews/large_movie_review_dataset/train/neg\n",
            "/content/movie_reviews/large_movie_review_dataset/test/pos\n",
            "/content/movie_reviews/large_movie_review_dataset/test/neg\n"
          ],
          "name": "stdout"
        }
      ]
    },
    {
      "cell_type": "markdown",
      "metadata": {
        "id": "jsOkMwh5vyps"
      },
      "source": [
        "# **Data Preprocessing**"
      ]
    },
    {
      "cell_type": "code",
      "metadata": {
        "id": "rIaCsN8JlgG_",
        "colab": {
          "base_uri": "https://localhost:8080/",
          "height": 85
        },
        "outputId": "889581ef-3401-4409-8b9b-4ce7110a8f1b"
      },
      "source": [
        "print(len(train_pos))\n",
        "print(len(train_neg))\n",
        "print(len(test_pos))\n",
        "print(len(test_neg))"
      ],
      "execution_count": null,
      "outputs": [
        {
          "output_type": "stream",
          "text": [
            "12500\n",
            "12500\n",
            "12500\n",
            "12500\n"
          ],
          "name": "stdout"
        }
      ]
    },
    {
      "cell_type": "code",
      "metadata": {
        "id": "pQyCdSKXXYcU"
      },
      "source": [
        " classes = 5\n",
        " total_examples = 10\n",
        " def read_train_files(data_files): \n",
        "  all_data = ''\n",
        "  i=0\n",
        "  for data_file in data_files:\n",
        "    #if(i == 2500):\n",
        "      #break\n",
        "    i+=1\n",
        "    #print('Reading file {}'.format(data_file))\n",
        "    all_data+=(open(data_file, 'r').read())\n",
        "    #print('Total length read so far is {}'.format(len(all_data)))    \n",
        "    all_data += '\\n'\n",
        "  return all_data,i"
      ],
      "execution_count": null,
      "outputs": []
    },
    {
      "cell_type": "code",
      "metadata": {
        "id": "9KAaMbsXjFQd"
      },
      "source": [
        "def read_test_files(data_files): \n",
        "  all_data = []\n",
        "  file_data=[]\n",
        "  i=0\n",
        "  for data_file in data_files:\n",
        "    if(i == 1000):\n",
        "      break\n",
        "    i+=1\n",
        "    #print('Reading file {}'.format(data_file))\n",
        "    file_data.append(open(data_file, 'r').read())\n",
        "    #print('Total length read so far is {}'.format(len(all_data)))\n",
        "    all_data.append(file_data)\n",
        "    file_data=[]\n",
        "  return all_data"
      ],
      "execution_count": null,
      "outputs": []
    },
    {
      "cell_type": "code",
      "metadata": {
        "id": "ZykCwfeCXb95",
        "colab": {
          "base_uri": "https://localhost:8080/",
          "height": 85
        },
        "outputId": "da560083-5dc3-4359-d6b3-699c98e1a7ee"
      },
      "source": [
        "result=read_train_files(train_pos) #string of all examples\n",
        "train_p=result[0]\n",
        "c1_len=result[1]\n",
        "result=read_train_files(train_neg) #string of all examples\n",
        "train_n=result[0]\n",
        "c2_len=result[1]\n",
        "test_p=read_test_files(test_pos)  #list of all examples\n",
        "test_n=read_test_files(test_neg)  #list of all examples\n",
        "print(len(train_p.split()))\n",
        "#print(train_p)\n",
        "print(len(train_n.split()))\n",
        "#print(train_n)\n",
        "print(len(test_p))\n",
        "#print(test_p[0])\n",
        "print(len(test_n))\n"
      ],
      "execution_count": null,
      "outputs": [
        {
          "output_type": "stream",
          "text": [
            "2958832\n",
            "2885848\n",
            "1000\n",
            "1000\n"
          ],
          "name": "stdout"
        }
      ]
    },
    {
      "cell_type": "markdown",
      "metadata": {
        "id": "RPCIHgVgv7aY"
      },
      "source": [
        "# **Tokenization**"
      ]
    },
    {
      "cell_type": "code",
      "metadata": {
        "id": "nzjMFk_j66Uv"
      },
      "source": [
        "#This function will convert every character to lower case if there exists any\n",
        "def lower_case(dataset):\n",
        "  return dataset.lower()"
      ],
      "execution_count": null,
      "outputs": []
    },
    {
      "cell_type": "code",
      "metadata": {
        "id": "CL5qnQGWCEUy"
      },
      "source": [
        "#This function will convert the string into tokens\n",
        "def Tokenization(dataset):\n",
        "  dataset = lower_case(dataset)\n",
        "  return sorted(dict(collections.Counter(dataset.split())).items(), key=lambda k: k[1], reverse=True)\n",
        "  "
      ],
      "execution_count": null,
      "outputs": []
    },
    {
      "cell_type": "code",
      "metadata": {
        "id": "km-w4LbECIDE"
      },
      "source": [
        "p_train=Tokenization(train_p)\n",
        "n_train=Tokenization(train_n)"
      ],
      "execution_count": null,
      "outputs": []
    },
    {
      "cell_type": "code",
      "metadata": {
        "id": "inXLBzmfr87p",
        "colab": {
          "base_uri": "https://localhost:8080/",
          "height": 51
        },
        "outputId": "ded51f64-6a64-43e5-bdbf-f760d2e1547f"
      },
      "source": [
        "import nltk\n",
        "from nltk.corpus import stopwords\n",
        "nltk.download(\"stopwords\")\n",
        "stop_words = set(stopwords.words('english')) \n",
        "stop_words.add('/><br')"
      ],
      "execution_count": null,
      "outputs": [
        {
          "output_type": "stream",
          "text": [
            "[nltk_data] Downloading package stopwords to /root/nltk_data...\n",
            "[nltk_data]   Unzipping corpora/stopwords.zip.\n"
          ],
          "name": "stdout"
        }
      ]
    },
    {
      "cell_type": "markdown",
      "metadata": {
        "id": "-_mK9KzBwCI_"
      },
      "source": [
        "# **Train_NB**"
      ]
    },
    {
      "cell_type": "code",
      "metadata": {
        "id": "EYN4PaUsw8mQ"
      },
      "source": [
        "import copy\n",
        "def Train_NB(p,n,c1=5,c2=5,sw=False):\n",
        "  #computing frequency of each word in classes and storing them in a dictionary\n",
        "  if(sw == False):\n",
        "    p_train=Tokenization(p)\n",
        "    p_train=dict(p_train)\n",
        "    n_train=Tokenization(n)\n",
        "    n_train=dict(n_train)\n",
        "  elif(sw == True):\n",
        "    p_train=dict(Tokenization(p))\n",
        "    n_train=dict(Tokenization(n))\n",
        "    trp_copy = copy.deepcopy(p_train)\n",
        "    trn_copy = copy.deepcopy(n_train)\n",
        "    for k in trp_copy.keys():\n",
        "      if k in stop_words:\n",
        "        del p_train[k]\n",
        "    for k in trn_copy.keys():\n",
        "      if k in stop_words:\n",
        "        del n_train[k]\n",
        "\n",
        "  #computing prior(probability of both classes)\n",
        "  prior1=c1/(c1+c2)\n",
        "  prior2=c2/(c1+c2)\n",
        "  V=len(p_train)+len(n_train)\n",
        "  nested_dict={}\n",
        "  nested_dict['pos']=p_train\n",
        "  nested_dict['neg']=n_train\n",
        "  return nested_dict,V,prior1,prior2\n",
        "\n",
        "result=Train_NB(train_p,train_n,c1_len,c2_len)\n"
      ],
      "execution_count": null,
      "outputs": []
    },
    {
      "cell_type": "markdown",
      "metadata": {
        "id": "QGGy5QAiwGs9"
      },
      "source": [
        "# **Predict**"
      ]
    },
    {
      "cell_type": "code",
      "metadata": {
        "id": "DSrmQ46x7LpG",
        "colab": {
          "base_uri": "https://localhost:8080/",
          "height": 34
        },
        "outputId": "02d7b81d-e7b0-4747-8f81-8457582fa399"
      },
      "source": [
        "import math\n",
        "def Predict(p,n,result,document,sw=False):\n",
        "  #result=Train_NB(p,n,c1,c2,sw)\n",
        "  nested_d=result[0]\n",
        "  v=result[1]\n",
        "  prior1=result[2]\n",
        "  prior2=result[3]\n",
        "  count_p=len(p.split())\n",
        "  count_n=len(n.split())\n",
        "  splits = document.split()\n",
        "  prob_p=[]\n",
        "  prob_n=[]\n",
        "  for split in splits:  \n",
        "  \n",
        "    #count the occurence of each word in class \"positive\"  \n",
        "    try:\n",
        "      count_w = nested_d['pos'][split]\n",
        "    except:\n",
        "      count_w=0\n",
        "    ans = (count_w + 1) / (count_p + v)\n",
        "    prob_p.append(ans)\n",
        "    #count the occurence of each word in class \"negative\" \n",
        "    try:\n",
        "      count_w = nested_d['neg'][split]\n",
        "    except:\n",
        "        count_w=0\n",
        "    ans = (count_w + 1) / (count_n + v)\n",
        "    prob_n.append(ans)\n",
        "    r1=0\n",
        "    r2=0\n",
        "  for i in range(len(document.split())):\n",
        "    r1+=math.log(prob_p[i],10)\n",
        "    r2+=math.log(prob_n[i],10)\n",
        "  r1+=math.log(prior1,10)\n",
        "  r2+=math.log(prior2,10)\n",
        "  if(r1>r2):\n",
        "    return 'pos'\n",
        "  elif(r2>r1):\n",
        "    return 'neg'\n",
        "  else:\n",
        "    return 'pos'\n",
        "str1=\"\" \n",
        "Predict(train_p,train_n,result,str1.join(test_p[0]))"
      ],
      "execution_count": null,
      "outputs": [
        {
          "output_type": "execute_result",
          "data": {
            "text/plain": [
              "'neg'"
            ]
          },
          "metadata": {
            "tags": []
          },
          "execution_count": 15
        }
      ]
    },
    {
      "cell_type": "markdown",
      "metadata": {
        "id": "zwjzVUgZwMhK"
      },
      "source": [
        "# **Evaluate**"
      ]
    },
    {
      "cell_type": "code",
      "metadata": {
        "id": "ybATWvzuXoEx"
      },
      "source": [
        "def probability(nested_d,c1,c2):\n",
        "  #computing prior(probability of both classes)\n",
        "  prior1=c1/(c1+c2)\n",
        "  prior2=c2/(c1+c2)\n",
        "  V=len(nested_dict['pos'])+len(nested_dict['neg'])\n",
        "  \n",
        "  return nested_dict,V,prior1,prior2"
      ],
      "execution_count": null,
      "outputs": []
    },
    {
      "cell_type": "code",
      "metadata": {
        "id": "koa8OLN1Huxz"
      },
      "source": [
        "def Evaluate(train_p,train_n,test_p,test_n,c1_len,c2_len,sw=False):\n",
        "  if(sw == False):\n",
        "    #Reading from data file\n",
        "    nested_dict={}\n",
        "    d={}\n",
        "    nested_dict['pos']={}\n",
        "    nested_dict['neg']={}\n",
        "    with open(\"dict.txt\") as f:\n",
        "        for item in f:\n",
        "          if ' ' in item:\n",
        "            key,value = item.split(' ', 1)\n",
        "            d[key]=int(value)            \n",
        "          else:\n",
        "            w = item\n",
        "            nested_dict['pos'] = d\n",
        "            d={}\n",
        "          \n",
        "    nested_dict['neg']=d\n",
        "    f.close()\n",
        "    result = probability(nested_dict,c1_len,c2_len)\n",
        "  elif(sw == True):\n",
        "    result=Train_NB(train_p,train_n,c1_len,c2_len)\n",
        "  #predict labels for each examples \n",
        "  accurate=0\n",
        "\n",
        "  for i in range(len(test_p)):\n",
        "    str1=\"\"\n",
        "    label=Predict(train_p,train_n,result,str1.join(test_p[i]),sw)\n",
        "    if(label == 'pos'):\n",
        "      accurate+=1\n",
        "  evaluate_pos = (accurate / len(test_p))*100\n",
        "  temp=accurate\n",
        "  accurate=0\n",
        "  \n",
        "  for i in range(len(test_n)):\n",
        "    str1=\"\"\n",
        "    label=Predict(train_p,train_n,result,str1.join(test_n[i]),sw)\n",
        "    if(label == 'neg'):\n",
        "      accurate+=1\n",
        "  evaluate_neg = (accurate / len(test_n))*100\n",
        "  cobmine_accuracy = ((temp+accurate) / (len(test_p)+len(test_n))) * 100\n",
        "  print(\"Accuracy to predict positive classes is: \",evaluate_pos,\"\\nAccuracy to predict negative classes is: \",evaluate_neg)\n",
        "  print(\"Total accuracy is: \",cobmine_accuracy)\n",
        "  return\n",
        "\n"
      ],
      "execution_count": null,
      "outputs": []
    },
    {
      "cell_type": "markdown",
      "metadata": {
        "id": "OPg_ydcisk3S"
      },
      "source": [
        "# **Evaluate the Result**"
      ]
    },
    {
      "cell_type": "code",
      "metadata": {
        "id": "IXlfNVilsmyk",
        "colab": {
          "base_uri": "https://localhost:8080/",
          "height": 68
        },
        "outputId": "c3a60a39-be55-42ca-c2dd-b820f9944ec9"
      },
      "source": [
        "Evaluate(train_p,train_n,test_p,test_n,c1_len,c2_len,False)"
      ],
      "execution_count": null,
      "outputs": [
        {
          "output_type": "stream",
          "text": [
            "Accuracy to predict positive classes is:  74.1 \n",
            "Accuracy to predict negative classes is:  89.3\n",
            "Total accuracy is:  81.69999999999999\n"
          ],
          "name": "stdout"
        }
      ]
    },
    {
      "cell_type": "markdown",
      "metadata": {
        "id": "QV4juA8OvR_q"
      },
      "source": [
        ""
      ]
    },
    {
      "cell_type": "code",
      "metadata": {
        "id": "BXavAsNynnhz",
        "colab": {
          "base_uri": "https://localhost:8080/",
          "height": 68
        },
        "outputId": "64155865-4f1e-46bf-b157-bfa5a3954bed"
      },
      "source": [
        "Evaluate(train_p,train_n,test_p,test_n,c1_len,c2_len,True)"
      ],
      "execution_count": null,
      "outputs": [
        {
          "output_type": "stream",
          "text": [
            "Accuracy to predict positive classes is:  74.1 \n",
            "Accuracy to predict negative classes is:  89.3\n",
            "Total accuracy is:  81.69999999999999\n"
          ],
          "name": "stdout"
        }
      ]
    },
    {
      "cell_type": "code",
      "metadata": {
        "id": "1Y9VXm1qW9jV"
      },
      "source": [
        ""
      ],
      "execution_count": null,
      "outputs": []
    },
    {
      "cell_type": "markdown",
      "metadata": {
        "id": "Uy8-9W7Jwan2"
      },
      "source": [
        "# **Bonus**"
      ]
    },
    {
      "cell_type": "markdown",
      "metadata": {
        "id": "oSAwcjGy0DsI"
      },
      "source": [
        "Store the dictionaries, prior to avoid re-calculation"
      ]
    },
    {
      "cell_type": "code",
      "metadata": {
        "id": "e-4L0q4twjx1"
      },
      "source": [
        "#Writing to data file\n",
        "result=Train_NB(train_p,train_n,c1_len,c2_len)\n",
        "nested_d = result[0]\n",
        "dic={}\n",
        "dic = nested_d['pos']\n",
        "f = open(\"dict.txt\",\"w\")\n",
        "f.write('pos\\n')\n",
        "for key, value in dic.items():\n",
        "  f.write('%s %s\\n' % (key, value))\n",
        "dic={}\n",
        "dic = nested_d['neg']\n",
        "f.write('neg\\n')\n",
        "for key, value in dic.items():\n",
        "  f.write('%s %s\\n' % (key, value))\n",
        "f.close()\n",
        "\n"
      ],
      "execution_count": null,
      "outputs": []
    },
    {
      "cell_type": "markdown",
      "metadata": {
        "id": "mXptDZr_7_3_"
      },
      "source": [
        "Analysis and Visualization"
      ]
    },
    {
      "cell_type": "code",
      "metadata": {
        "id": "GyOrYUib7953",
        "colab": {
          "base_uri": "https://localhost:8080/",
          "height": 156
        },
        "outputId": "900fcb02-b342-4629-f65f-2642f41cb560"
      },
      "source": [
        "%matplotlib inline\n",
        "import matplotlib.pyplot as plt\n",
        "from pylab import *\n",
        "\n",
        "nested_d = result[0]\n",
        "dic1=nested_d['pos']\n",
        "dic2=nested_d['neg']\n",
        "val1 = np.zeros(20)\n",
        "val2 = np.zeros(20)\n",
        "print(\"\\tWITH STOP WORDS\")\n",
        "print()\n",
        "print(\"Top 20 words in training set for positive class are:\")\n",
        "\n",
        "count = 0\n",
        "for i in dic1.keys():\n",
        "  print(i,end= \"     \")\n",
        "  val1[count]=dic1[i]\n",
        "  count+=1\n",
        "  if(count == 20):\n",
        "    break\n",
        "count = 0\n",
        "print()\n",
        "print()\n",
        "print(\"Top 20 words in training set for negative class are:\")\n",
        "\n",
        "for i in dic2.keys():\n",
        "  print(i,end= \"      \")\n",
        "  val2[count] = dic2[i]\n",
        "  count+=1\n",
        "  if(count == 20):\n",
        "    break\n",
        "print()\n"
      ],
      "execution_count": null,
      "outputs": [
        {
          "output_type": "stream",
          "text": [
            "\tWITH STOP WORDS\n",
            "\n",
            "Top 20 words in training set for positive class are:\n",
            "the     and     a     of     to     is     in     i     it     that     this     as     /><br     with     for     was     but     his     on     film     \n",
            "\n",
            "Top 20 words in training set for negative class are:\n",
            "the      a      and      of      to      is      in      i      this      that      it      /><br      was      for      but      with      as      movie      on      not      \n"
          ],
          "name": "stdout"
        }
      ]
    },
    {
      "cell_type": "code",
      "metadata": {
        "id": "qPCxUZE9NRky",
        "colab": {
          "base_uri": "https://localhost:8080/",
          "height": 407
        },
        "outputId": "53f0da4a-1ef5-4f68-9b68-3a04eda9ed30"
      },
      "source": [
        "fig, axes = plt.subplots(1, 2, figsize=(12,6))\n",
        "\n",
        "keys = np.array([1,2,3,4,5,6,7,8,9,10,11,12,13,14,15,16,17,18,19,20])\n",
        "axes[0].bar(keys,val1, align=\"center\")\n",
        "axes[0].set_title(\"Top 20 words count in Positive Class\")\n",
        "\n",
        "axes[1].bar(keys,val2, align=\"center\",color='orange')\n",
        "axes[1].set_title(\"Top 20 words count in Negative Class\")"
      ],
      "execution_count": null,
      "outputs": [
        {
          "output_type": "execute_result",
          "data": {
            "text/plain": [
              "Text(0.5, 1.0, 'Top 20 words count in Negative Class')"
            ]
          },
          "metadata": {
            "tags": []
          },
          "execution_count": 20
        },
        {
          "output_type": "display_data",
          "data": {
            "image/png": "[encoded data removed]",
            "text/plain": [
              "<Figure size 864x432 with 2 Axes>"
            ]
          },
          "metadata": {
            "tags": [],
            "needs_background": "light"
          }
        }
      ]
    },
    {
      "cell_type": "code",
      "metadata": {
        "id": "2oBpQSAFTBed",
        "colab": {
          "base_uri": "https://localhost:8080/",
          "height": 122
        },
        "outputId": "2e968231-b36e-4b8a-88eb-085c51c29066"
      },
      "source": [
        "import copy\n",
        "p_train=dict(Tokenization(train_p))\n",
        "n_train=dict(Tokenization(train_n))\n",
        "trp_copy = copy.deepcopy(p_train)\n",
        "trn_copy = copy.deepcopy(n_train)\n",
        "for k in trp_copy.keys():\n",
        "  if k in stop_words:\n",
        "    del p_train[k]\n",
        "for k in trn_copy.keys():\n",
        "  if k in stop_words:\n",
        "    del n_train[k]\n",
        "\n",
        "val1 = np.zeros(20)\n",
        "val2 = np.zeros(20)\n",
        "print(\"\\tWITHOUT STOP WORDS\")\n",
        "print()\n",
        "\n",
        "\n",
        "count = 0\n",
        "for i in p_train.keys():\n",
        "  print(i,end= \"     \")\n",
        "  val1[count]=dic1[i]\n",
        "  count+=1\n",
        "  if(count == 20):\n",
        "    break\n",
        "count = 0\n",
        "print()\n",
        "print()\n",
        "\n",
        "for i in n_train.keys():\n",
        "  print(i,end= \"      \")\n",
        "  val2[count] = dic2[i]\n",
        "  count+=1\n",
        "  if(count == 20):\n",
        "    break\n",
        "print()\n"
      ],
      "execution_count": null,
      "outputs": [
        {
          "output_type": "stream",
          "text": [
            "\tWITHOUT STOP WORDS\n",
            "\n",
            "film     movie     one     like     good     great     see     really     would     story     also     -     even     much     first     get     time     well     best     />the     \n",
            "\n",
            "movie      film      one      like      even      would      good      really      bad      see      get      -      much      could      make      people      time      made      first      story      \n"
          ],
          "name": "stdout"
        }
      ]
    },
    {
      "cell_type": "code",
      "metadata": {
        "id": "8HvRR-MMUFQ2",
        "colab": {
          "base_uri": "https://localhost:8080/",
          "height": 407
        },
        "outputId": "7d58d6ac-407a-4cd2-96dc-87d63a46dc98"
      },
      "source": [
        "fig, axes = plt.subplots(1, 2, figsize=(12,6))\n",
        "\n",
        "keys = np.array([1,2,3,4,5,6,7,8,9,10,11,12,13,14,15,16,17,18,19,20])\n",
        "axes[0].bar(keys,val1, align=\"center\",color='green')\n",
        "axes[0].set_title(\"Top 20 words count in Positive Class\")\n",
        "\n",
        "axes[1].bar(keys,val2, align=\"center\",color='purple')\n",
        "axes[1].set_title(\"Top 20 words count in Negative Class\")"
      ],
      "execution_count": null,
      "outputs": [
        {
          "output_type": "execute_result",
          "data": {
            "text/plain": [
              "Text(0.5, 1.0, 'Top 20 words count in Negative Class')"
            ]
          },
          "metadata": {
            "tags": []
          },
          "execution_count": 22
        },
        {
          "output_type": "display_data",
          "data": {
            "image/png": "[encoded data removed]",
            "text/plain": [
              "<Figure size 864x432 with 2 Axes>"
            ]
          },
          "metadata": {
            "tags": [],
            "needs_background": "light"
          }
        }
      ]
    },
    {
      "cell_type": "markdown",
      "metadata": {
        "id": "uC7Zeozh9DAf"
      },
      "source": [
        "# **TASK 2(Bag of Words)**\r\n",
        "\r\n",
        "### Predicting the Similarity between Reviews using BOW Technique"
      ]
    },
    {
      "cell_type": "markdown",
      "metadata": {
        "id": "-xxmUIbw9Mb_"
      },
      "source": [
        ""
      ]
    },
    {
      "cell_type": "code",
      "metadata": {
        "id": "mdnayX-EGHjS"
      },
      "source": [
        "pp = read_test_files(train_pos)\n",
        "nn = read_test_files(train_neg) "
      ],
      "execution_count": null,
      "outputs": []
    },
    {
      "cell_type": "code",
      "metadata": {
        "id": "g8ghkNxbCYn4",
        "colab": {
          "base_uri": "https://localhost:8080/",
          "height": 54
        },
        "outputId": "def62f55-7605-458f-ba45-115150aa0a02"
      },
      "source": [
        "#This function creates list of all documents [[d1],[d2],[d3]......]\n",
        "def Get_document(pp,nn):\n",
        "  documents=[]\n",
        "  k=0\n",
        "  for i in range(5):\n",
        "    temp=[]\n",
        "    temp.append(pp[i][k])\n",
        "    documents.append(temp)\n",
        "    temp=[]\n",
        "    temp.append(nn[i][k])\n",
        "    documents.append(temp)\n",
        "  return documents\n",
        "\n",
        "documents=Get_document(pp,nn)\n",
        "tdocuments = Get_document(test_p,test_n)"
      ],
      "execution_count": null,
      "outputs": [
        {
          "output_type": "stream",
          "text": [
            "[[\"I first saw this film around ten years ago and I thought it was very funny indeed. It was not as bad as some critics were making it out to be. The fact that it was written by the usually dependable John Hughes shows that you can at least expect some funny dialogue. (By the way, I also think Weird Science is quite good which was also penned in lightning speed by Hughes).<br /><br />The film has a very garish look to it using all the primary colours - reds, yellows etc - which makes it look quite unique. The cast are also quite good. The prudish Bunny Packard and the devil-possessed Delores Salk are a stand out.<br /><br />The film has certainly dated a little but I personally prefer it to all the other 'Lampoon' series.\"], ['Wow, after trashing the disk of Timo Roses \"Rout City\" after about 15 Minutes (South Park is about more than meaningless cursing... I guess some people just don\\'t get it) I was interested in this movie. I read quite some positive stuff and the packaging and look of the movie seemed far from the total trash I expected after \"Rout city\".<br /><br />Surprise: The movie isn\\'t total trash but the problem seems to be exactly that. Timo Rose tries to walk in the footsteps of German Horror/Splatter Cinema like Olaf Ittenbach and the likes. That means \"Barricade\" is in parts extremely gory and detailed. The gore FX are not really believable but OK, the acting is OK but in some cases plain sucks. The hillbilly chick in the opening sequence is ridiculous and doesn\\'t get better till she\\'s shot.<br /><br />So what is the problem... the movie is gory, has a typical German underground vibe (including the classic booby shots in blood), OK FX and a modern feel to it like the packaging already promised?! <br /><br />1. The script is total BS. You get a typical hillbilly/lost in the woods story with some guys+gal camping out and meeting a degenerated hillbilly family. Everything is just leading towards the torture/mutilation scenes and seems unbelievably random and pointless. This is the first thing that makes \"Barricade\" half-hearted.<br /><br />2. Random is also the perfect description for a lot of the camera work (I liked the repetitive cut to the tweezers in the extended booby torture scene... either they had no material or the editor works in a hardware store). Even worse the editing... sure, its modern and far better than a lot of other movies in the genre but its RANDOM. You got an overuse of that typical exposure effect everywhere and with no meaning ... its just there... all the time. Then there\\'s some grainy/noisy film look which also is just thrown in here and there for the sake of it, I don\\'t get the meaning.<br /><br />3. Like the fore-mentioned effects there is a lot of repetitive stuff in here. For example most of the kills are edited with multiple repetitions of stabbing and punching. Its OK once but here its annoying and fake, especially towards the end. Annoying also attributes the \"music\" which is permanently used without any change in the background. It doesn\\'t take long until it makes the movie hardly bearable.<br /><br />4. From all this comes the biggest problem of this movie (and many others in my opinion). If you make a splatter movie with trashy feel its pretty idiotic to polish it with special FX and new school editing. It looks like they take it way too serious. Its no fun because the decent gore FX are plain wasted in this context. And where the classic gore FX are OK the computer FX in scenes like the stabbing in the mouth or the gunshots in the ending look rather silly(and 3D splatter mostly sucks to me even in movies with a budget and decent 3D artists).<br /><br />I often wondered if the time of serious splatter movies is over and \"Barricade\" is just another example it might be time to put it in the tomb. Its no fun, has no character and is too trashy for its look. The script is a cheap try on \"Wrong Turn\" and \"TCM\" leading absolutely nowhere. You can take that literally... the ending is just there and as random as many other things here (\"I love you\" in a splatter flick... come on!!). \"Barricade\" tries to incorporate a lot and fails...you can sure fast-forward through this movie for some extensive disembowelment, acid face melting,nipple pinching and classic Friday the 13th style stabbing of a couple while fingering in a tent (bloody boobies hooray!). But its really hard to get through this. Total failure especially because you can see it could have been something.'], ['Cosimo (Luis Guzman) ends up in prison for car burglary and there he\\'s given the plan for the perfect heist from a lifer in prison; so he has to get out of jail, fast. He tells his girlfriend Rosalind (Patricia Clarkson) to find a man who will do his time in prison for some money. But no one wants to do the time for Cosimo\\'s crime and yet everybody seems to know a guy who will do that. Soon bad boxer Pero Mahalovic (Sam Rockwell) founds out the details of this so called \"perfect job\".<br /><br />First of all, I think this movie was very funny and from my point of view I would recommend it to everyone. This movie is remake of Italian comedy \"I Soliti Ignoti\". I didn\\'t watch the Italian original so I cannot judge or compare those two movies. But \"Welcome to Collinwood\" is great comedy for itself, about four people trying to rob the money from the vault in one house. Everyone gave their part of brilliance from this movie cast. Really excellent movie for these actors: Sam Rockwell, William H. Macy (great), Isaiah Washington, Michael Jeter (great), Luis Guzmán, Patricia Clarkson, Jennifer Esposito and finally George Clooney gave their share in this project. <br /><br />Maybe to say that this movie is only comedy, isn\\'t fair. This is more then that. Because of one difference. All of thieves in this movie have very small wishes when they are asked: what will they do with their money? It is mostly securing their future in very humble way. This fact goes beyond comedy into the soul of that criminals. And not only them but also cop Babitch, who is presented like corrupted one; so here directors Russo presents us fact that criminals and cop are the same. Actually all in Collinwood are; and not only in Collinwood, cause all people chase money, on legal or illegal way. I don\\'t like all movies were audience eventually likes and cheers for thieves. But, this one is exception. You have to love them all. Riley with his little baby and wife in jail. Toto with his pants. Cosimo with his line: \"Your mother\\'s a whore!\" and all others. They are just like characters in my favorite comic, Alan Ford. They all trying to make some money, but simply they are out of luck. But they all did one good deed: they gave money to Riley, so he can get his wife out of prison. They are all heroes in my eyes, cause lots of \"honest\" people wouldn\\'t do that.'], ['\"Land of Plenty\" is not a film. It is a tombstone for the directorial career of German Director Wim Wenders.<br /><br />Many felt it in \"The Million Dollar Hotel\" and now \"Land of Plenty\" makes it perfectly clear; not only has Wenders lost it, he\\'s actually turned into a BAD director, creating horribly weak and superficial stories and scenes.<br /><br />One might argue that the \"time you lose it\" comes for every director, but Wenders\\' case is extreme. It\\'s as if he completely forget everything he knew about cinema and started all over again - only to get sloppish results.<br /><br />In a few words, this film does not deserve your time.'], [\"This movie is a journey through the mind of a screenwriter caught in his own paradoxical philosophy. He examines the ever illusive question of 'who am I' and 'what is I?' It's a courageous and thought provoking enterprise. There is a shipload of beautiful images, dream-inspired, Escher-like paradoxes reminiscent of the hand drawing itself, or rather, erasing itself. More and more we follow the writer in his agony over what to say and what to film, we see him phoning with his wife who left for Peru, leaving him to take care of their baby, a task he performs with less and less attention until he's so absorbed in his dilemma's that he hardly looks at the child anymore. His wife comes back and makes a scene, destroys his notes and helping him go over the last treshold until he erases him-self. Interspersed with eye-pleasing and I-destructing images, the story is mainly philosophical. It's about the veils of Maya, the world of illusion. The paradox of the movie however, is that it needs a lot of talking and thinking to prove that thinking should stop. During the more than two hours of provocative beauty and rapid philosophising the movie made me long for silence or a shorter movie. If that was the purpose of the maker, he succeeded quite well.\"], [\"Could anyone please stop John Carpenter from continuously and deliberately ruining his reputation? How low can you go? It seems this man has lost any self respect.<br /><br />This episode looks like it has been done by a film student, it isn't even worth beginning to talk about WHAT was bad, because it was just a borefest, directed by somebody with no talent as a filmmaker or without any motivation...<br /><br />Come on, Mr. Carpenter, please retire immediately with a rest of self-esteem and stop spilling out trash like this in a bad tradition from Escape from L.A. to Ghosts of Mars.<br /><br />Get drunk instead.\"], [\"Standard rise to fame tale that has a few high points. Number one, Lonette McKee as Sister who gives a stunning, star making performance. The fact that she never became a huge sensation after this is beyond me. Sadly, she is a supporting character and we are forced to focus on Irena Carter's bland character, Sparkle, whose rise to fame is easy, boring, and unconvincing. However, whenever the girls go on stage and perform, the movie comes back to life. The original music by Curis Mayfield must be praised. The copy I saw was a very old VHS tape. The picture quality was pretty low, as well as the production values I'm guessing. All in all, its worth a gander.\"], ['I grew up watching Inspector Gadget. It was, and still is, one of my favorite cartoons, if not my absolute favorite. I learned a lot of geography and history from the spin-off Inspector Gadget\\'s Field Trip. I wanted to slip on a banana peel and become the greatest detective ever.<br /><br />But the film has ruined the reputation of the wonderful cartoon.<br /><br />Matthew Broderick, an actor with potential, was definitely NOT the role for Inspector Gadget. First thing- in the film, Inspector Gadget is smart. Not so in the cartoon. In the film, Gadget solves the mystery mostly by himself. In the cartoon, it was almost always Penny, Brain, and the awesome book (I still want her book!). If Gadget solved the mystery, it was by accident. Gadget in the film seems to be a competent detective, but in the cartoon was pretty dumb, which was where the humor came from.<br /><br />Another thing is that it\\'s too much \"Good Guy v. Bad Guy\" in the film. It\\'s not just meant to be a silly Saturday morning cartoon. Also, Gadget never should have a love story, but Disney Corporation is filled with idiots.<br /><br />Also I miss the true gadgets that Gadget had, and especially the Gadget car. In the movie it was a chic convertible. In the cartoon it was a sedan police car and could turn into a van. It also barely had any gadgets and was mainly there to get him from place to place.<br /><br />But if anything, the one thing that was terrible about the movie was that it was a feature movie. Inspector Gadget was a silly Saturday morning cartoon. The movie was too serious, too overdone, had too much of a plot and wasn\\'t even remotely as funny.<br /><br />Tip for those who haven\\'t seen it: NEVER see it. EVER. Watch the cartoon, it\\'s a true classic.'], ['I originally saw this movie as a boy at the old Rialto Theatre as part of a Saturday afternoon matinée triple bill which also featured Vincent Price\\'s \"Last Man on Earth\" and Mario Bava\\'s \"Nightmare Castle.\" I had nightmares about blood lusting ghosts for a week afterwards! Though I didn\\'t know it then, all three movies would prove to be classics of the genre. No wonder I was so scared! Though all three films frightened me, it was Castle of Blood that had the most profound impact.<br /><br />It was the first on the bill. I didn\\'t even get to see it from the beginning as we were late getting to the cinema and missed the first 20 minutes of the movie. That\\'s lot to miss since the edited print only ran about 79 minutes (the unedited runs 87minutes). But despite this, the dark creepy atmosphere (complete with ruined castles, fog enshrouded cemeteries, shadows and cobwebs), Gothic set design, strong acting, and suspense (especially the last 20 minutes) scared the bejeepers out of me and made a lasting impression It took me years to finally get a copy of the film for my collection. Since it was a French - Italian import, it wasn\\'t a movie that showed up on the late show in Winnipeg. I couldn\\'t quite remember the title (remember I didn\\'t get to seen the beginning of the film and was scared witless), and to make matters worse, the film had been released under literally a dozen different movie titles (aka Danze Macabre, Coffin of Terror, Castle of Terror, Long Night of Terror, etc...) and the USA/UK working title \"Castle of Blood\" was very generic, similar to dozens of other \"b\" horror and suspense films, making it illusive. But thanks to the internet and perseverance, I found it at last! What a treat to finally watch the film in its entirety after so many years! It may not have had quite the sheer emotional impact that it did when I was a boy, but as haunted house movies go, it\\'s stands up well and compares favourably to similar iconic films of the period such as \"The Haunting,\" \"The Innocents\" or \"Black Sunday,\" The film is a fine early effort of Italian director Antonio Margheriti. It stars 60\\'s scream queen icon Barbara Steele and features a well written screenplay by Sergio Corbucci about a sceptical writer (Georges Riviere) who, on a bet, spends the night in haunted house and unsuspectingly becomes part of an annual ongoing ghostly story. The hypnotic Steele is well cast as the ghostly love interest - as is Arturo Dominici as Dr. Carmus, and Margarete Robsahm as Julia.<br /><br />Many of the tricks Margheriti employs to create the film\\'s eerie atmosphere (cobwebs, creaking doors, fog, etc) are bound to seem cliché to a modern audience, but they work far more effectively in black and white than they ever could in modern day colour. Rather than using body counts and special effects, the film creates scares the old fashion way, relying on a good story, stylish direction, fine set production, interesting camera work, and strong acting performances. Margheriti does a marvellous job taking these elements and building the film\\'s suspense as the horrifying paranormal secret of the house gradually reveals itself to the unwitting writer.<br /><br />The film is not without faults. The pace drags at the beginning of the film (ironically, the 20 minutes I originally missed). This is probably worsened by Synapse films effort to restore the film to its original length. Though fans will likely appreciate the chance to see the film restored - in terms of the intro - it may have been more of hindrance than a help. The English voice dubs are merely passable and, in the restored scenes, the language shifts from English to French (English subtitles provided) which is sure to be annoying to some viewers.<br /><br />However, Synapse Films deserves kudos for the quality of the print. Clearly some effort was put into its restoration and deservedly so.<br /><br />I enjoyed the film immensely and highly recommend it to aficionados of 60\\'s Italian Goth films, or anyone who enjoys a good ghost story.<br /><br />Rob Rheubottom Winnipeg, MB Canada'], [\"OK..... This is the third in the series of carnosaur. Lets star with the dinosaur puppets! In the start of the film you cant See the Dino's cause when the body count starts you can only See the Dino's eye vision, pretty smart to hide the bad puppets! and maybe in 16 minutes forward on the film some special force team with Scott Valentine as the leader Rance, the team walks into the warehouse and then they begins to find body parts and dead body's after the Dino rampage, after a while some big box comes failing on the team and you can hear a velociraptor scream, pretty creepy!!! and then a black girl walks forward and now one blooper is found! It pops up a raptor hand and slashed her face but if you pause when the raptor hand comes you can See that its just a guy with a hand puppet!? WTF! The story is simple. 1. Some terrorist's attacks some truck cause they though It wash some weapons in there. 2. They where dead wrong it seams to be ten tons raptor and one giant t-Rex in there! How did the t-Rex fit in there??? 3. Rance and some nerds will kill the dinosaurs! Sadly some stupid blond girl told him to capture one of them alive=( 4. Holy Jesues the raptors have wheels on their feats! 5. The Dino's is now on a boat in the pacific. 6: Strange i didn't know that the t-Rex had a strange thing on hes neck??? 7. THE END. The film is good if you want a good laugh. 5/10\"]]\n"
          ],
          "name": "stdout"
        }
      ]
    },
    {
      "cell_type": "code",
      "metadata": {
        "id": "nwYvxNaKDl-B",
        "colab": {
          "base_uri": "https://localhost:8080/",
          "height": 54
        },
        "outputId": "2e414bd8-d263-4bc6-fe79-0d1f239409fb"
      },
      "source": [
        "def Tokenize(documents):\n",
        "  documents_tokens=[]\n",
        "  for i in range(len(documents)):\n",
        "    documents_tokens.append(Tokenization(documents[i][0]))\n",
        "  return documents_tokens\n",
        "  \n",
        "documents_tokens=Tokenize(documents)\n",
        "tdocuments_tokens=Tokenize(tdocuments)\n",
        "print(tdocuments_tokens[1])"
      ],
      "execution_count": null,
      "outputs": [
        {
          "output_type": "stream",
          "text": [
            "[('the', 14), ('of', 7), ('it', 6), ('is', 5), ('in', 5), ('was', 4), ('a', 4), ('that', 3), ('there', 3), ('not', 3), ('to', 3), ('film', 2), ('for', 2), ('at', 2), ('film,', 2), ('dialogue', 2), ('would', 2), ('no', 2), ('attempt', 2), ('only', 1), ('redeeming', 1), ('quality', 1), ('this', 1), ('shows', 1), ('bands', 1), ('and', 1), ('their', 1), ('music', 1), ('when', 1), ('changing', 1), ('ny', 1), ('during', 1), (\"'81.\", 1), ('as', 1), ('itself', 1), ('has', 1), ('least', 1), ('three', 1), ('major', 1), ('flaws.', 1), ('first', 1), ('all,', 1), ('narration', 1), ('throughout', 1), ('which', 1), ('required', 1), ('all.', 1), ('few', 1), ('places', 1), ('where', 1), ('some', 1), ('explanation', 1), ('necessary', 1), ('just', 1), ('adding', 1), ('little', 1), ('have', 1), ('gone', 1), ('long', 1), ('way.', 1), ('secondly,', 1), ('obvious', 1), ('synchronize', 1), ('any', 1), ('audio,', 1), ('fact', 1), ('quite', 1), ('apparent', 1), ('most', 1), ('recorded', 1), ('later', 1), ('with', 1), ('match', 1), ('film.', 1), ('third', 1), ('flaw', 1), ('ending.', 1), ('i', 1), ('will', 1), ('give', 1), ('ending', 1), ('away', 1), ('those', 1), ('brave', 1), ('souls', 1), ('endure', 1), ('torture', 1), ('sitting', 1), ('through', 1), ('but', 1), ('commits', 1), ('cardinal', 1), ('sin', 1), ('screenwriting.', 1), ('worth', 1), ('money', 1), ('or', 1), ('time', 1), ('takes', 1), ('see', 1), ('this,', 1), ('unless', 1), ('you', 1), ('are', 1), ('fan', 1), ('one', 1), ('represented', 1), ('bands.', 1)]\n"
          ],
          "name": "stdout"
        }
      ]
    },
    {
      "cell_type": "code",
      "metadata": {
        "id": "_Qd6MP5dHDdw"
      },
      "source": [
        "#create lists of all words W = [.......]\n",
        "def Word_list(documents_tokens):\n",
        "  i=0\n",
        "  k=0\n",
        "  W=[]\n",
        "  for item in range(len(documents_tokens)):\n",
        "    for j in range(len(documents_tokens[i])):\n",
        "      if documents_tokens[i][j][k] not in W:\n",
        "        W.append(documents_tokens[i][j][k])\n",
        "    i+=1\n",
        "  return W\n",
        "W = Word_list(documents_tokens)  \n"
      ],
      "execution_count": null,
      "outputs": []
    },
    {
      "cell_type": "code",
      "metadata": {
        "id": "Kor3r8ll3dQG",
        "colab": {
          "base_uri": "https://localhost:8080/",
          "height": 34
        },
        "outputId": "d14562b1-a6ab-4867-b5db-a20c2f9bbda9"
      },
      "source": [
        "#Create vectors for all documents [[v1],[v2],[v3]......]\n",
        "def Create_Vectors(documents_tokens,W):\n",
        "  vv=[]\n",
        "  temp=[]\n",
        "  character=0\n",
        "  value=1\n",
        "  for i in range(len(documents_tokens)):\n",
        "    j=0\n",
        "    while(j<len(W) and j<len(documents_tokens[i])):\n",
        "      if W[j] in documents_tokens[i][j][character]:\n",
        "        temp.append(documents_tokens[i][j][value])\n",
        "      else:\n",
        "        temp.append(0)\n",
        "      j+=1\n",
        "    while(j<len(W)):\n",
        "      temp.append(0)\n",
        "      j+=1\n",
        "    vv.append(temp)\n",
        "    temp=[]\n",
        "  return vv\n",
        "vv = Create_Vectors(documents_tokens,W)\n",
        "tvv = Create_Vectors(tdocuments_tokens,W)\n",
        "print(vv[0][0])"
      ],
      "execution_count": null,
      "outputs": [
        {
          "output_type": "stream",
          "text": [
            "8\n"
          ],
          "name": "stdout"
        }
      ]
    },
    {
      "cell_type": "markdown",
      "metadata": {
        "id": "z8tz9kg7GYKk"
      },
      "source": [
        "**Cosine Similarity**"
      ]
    },
    {
      "cell_type": "code",
      "metadata": {
        "id": "2X-tcMXEGXJ4",
        "colab": {
          "base_uri": "https://localhost:8080/",
          "height": 394
        },
        "outputId": "588f0d47-c95b-4c43-be16-fae7c7b4986d"
      },
      "source": [
        "print(len(tvv))\n",
        "# cosine formula  \n",
        "for i in range(len(tvv)): \n",
        "  c=0\n",
        "  res=0\n",
        "  for k in range(len(vv)):\n",
        "    for j in range(len(W)):\n",
        "          c+= vv[k][j]*tvv[i][j] \n",
        "    cosine = c / (float((sum(vv[k])**2) *  (sum(tvv[i])**2)**0.5) +1)     \n",
        "    if(cosine > res):\n",
        "      t1=i\n",
        "      t2=k\n",
        "      res=cosine\n",
        "  \n",
        "  print(\"Similiar Reviews:\",tdocuments[t1], \"and\", documents[t2],)\n",
        "  print(\"Similarity: \",res)    \n"
      ],
      "execution_count": null,
      "outputs": [
        {
          "output_type": "stream",
          "text": [
            "10\n",
            "Similiar Reviews: ['My giving this film a score of 8 is relative to other feature-length films from 1930. By the standards of films made just a few years later, this film might receive a score of only 6 or 7--mostly because the sound quality was so poor. Now it is possible that the film sounded better and the Fox Movie Channel did show a degraded print (it DID have a lot of lines and scratches), but I assume the sound problem was always an issue. That\\'s because sound in movies was still a novelty in 1930 and many of the Hollywood talking pictures of 1930 sounded terrible--with background characters often drowning out the leads, characters huddled together to make sure they are picked up by the microphones or inconsistent quality (such as what was seen in THE BISHOP MURDER CASE, HELL\\'S ANGELS and other films of the day). This was all made much worse in THE BIG TRAIL because most of the film was shot outside--something unheard of at the time. Quite an innovation but also something that really stretched the talents of the sound technicians! So, while the film was very hard to listen to, I realize that they had to start somewhere, so I can forgive this--especially since the outdoor scenes are breathtaking--a major innovation for 1930.<br /><br />The plot is rather similar to CIMARRON--a Western that came out the following year and which captured the Oscar for Best Picture. Unfortunately, CIMARRON isn\\'t all that great a film and I actually like THE BIG TRAIL more due to the scope of the film. While some might balk at THE BIG TRAIL\\'s slow-moving pace, I saw it as a great history lesson about the hardships endured by those traveling West on wagon trains. Plus, the whole thing just looked so beautiful, as director Raoul Walsh went to significant trouble to film on location and THE BIG TRAIL looks almost like a film version of some Ansel Adams prints.<br /><br />As for the acting, it was pretty good. This was a major break for young John Wayne--as his previous screen appearances were, at best, minor and unremarkable. Here, he was given the lead and did a dandy job--though he was obviously young and a little less \"John Wayne-ish\" than he was in later films, as his screen persona was not yet firmly established. Another interesting part was played by Tyrone Power II (Tyrone Power\\'s father). He looked nothing like his extremely handsome son and looked and sounded almost exactly like Bluto from the Popeye cartoons! He made very few sound films--dying just a year after making this film--so it\\'s a rare opportunity to see and hear this once famous actor.<br /><br />Overall, the film is well worth seeing despite some sound problems and a few overly long scenes here and there. For 1930, it was a remarkable achievement--more so than the much more famous and award-winning CIMARRON made the following year. Much of the reason THE BIG TRAIL didn\\'t win an Oscar most likely was because ALL QUIET ON THE WESTERN FRONT came out the same year and it is truly one of the great films.'] and ['Cosimo (Luis Guzman) ends up in prison for car burglary and there he\\'s given the plan for the perfect heist from a lifer in prison; so he has to get out of jail, fast. He tells his girlfriend Rosalind (Patricia Clarkson) to find a man who will do his time in prison for some money. But no one wants to do the time for Cosimo\\'s crime and yet everybody seems to know a guy who will do that. Soon bad boxer Pero Mahalovic (Sam Rockwell) founds out the details of this so called \"perfect job\".<br /><br />First of all, I think this movie was very funny and from my point of view I would recommend it to everyone. This movie is remake of Italian comedy \"I Soliti Ignoti\". I didn\\'t watch the Italian original so I cannot judge or compare those two movies. But \"Welcome to Collinwood\" is great comedy for itself, about four people trying to rob the money from the vault in one house. Everyone gave their part of brilliance from this movie cast. Really excellent movie for these actors: Sam Rockwell, William H. Macy (great), Isaiah Washington, Michael Jeter (great), Luis Guzmán, Patricia Clarkson, Jennifer Esposito and finally George Clooney gave their share in this project. <br /><br />Maybe to say that this movie is only comedy, isn\\'t fair. This is more then that. Because of one difference. All of thieves in this movie have very small wishes when they are asked: what will they do with their money? It is mostly securing their future in very humble way. This fact goes beyond comedy into the soul of that criminals. And not only them but also cop Babitch, who is presented like corrupted one; so here directors Russo presents us fact that criminals and cop are the same. Actually all in Collinwood are; and not only in Collinwood, cause all people chase money, on legal or illegal way. I don\\'t like all movies were audience eventually likes and cheers for thieves. But, this one is exception. You have to love them all. Riley with his little baby and wife in jail. Toto with his pants. Cosimo with his line: \"Your mother\\'s a whore!\" and all others. They are just like characters in my favorite comic, Alan Ford. They all trying to make some money, but simply they are out of luck. But they all did one good deed: they gave money to Riley, so he can get his wife out of prison. They are all heroes in my eyes, cause lots of \"honest\" people wouldn\\'t do that.']\n",
            "Similarity:  2210.0\n",
            "Similiar Reviews: [\"The only redeeming quality of this film is that it shows bands and their music when it was changing in NY during '81. As for the film itself it has at least three major flaws. First of all, there is narration throughout the film, which is not required at all. In the few places where there is some explanation necessary just adding a little dialogue would have gone a long way. Secondly, there was no obvious attempt to synchronize any of the audio, in fact it is quite apparent that most of the dialogue was recorded later with no attempt to match the film. The third flaw was in the ending. I will not give the ending away for those brave souls that would endure the torture of sitting through the film, but it commits a cardinal sin in screenwriting. Not worth the money or time it takes to see this, unless you are a fan of one of the represented bands.\"] and ['Cosimo (Luis Guzman) ends up in prison for car burglary and there he\\'s given the plan for the perfect heist from a lifer in prison; so he has to get out of jail, fast. He tells his girlfriend Rosalind (Patricia Clarkson) to find a man who will do his time in prison for some money. But no one wants to do the time for Cosimo\\'s crime and yet everybody seems to know a guy who will do that. Soon bad boxer Pero Mahalovic (Sam Rockwell) founds out the details of this so called \"perfect job\".<br /><br />First of all, I think this movie was very funny and from my point of view I would recommend it to everyone. This movie is remake of Italian comedy \"I Soliti Ignoti\". I didn\\'t watch the Italian original so I cannot judge or compare those two movies. But \"Welcome to Collinwood\" is great comedy for itself, about four people trying to rob the money from the vault in one house. Everyone gave their part of brilliance from this movie cast. Really excellent movie for these actors: Sam Rockwell, William H. Macy (great), Isaiah Washington, Michael Jeter (great), Luis Guzmán, Patricia Clarkson, Jennifer Esposito and finally George Clooney gave their share in this project. <br /><br />Maybe to say that this movie is only comedy, isn\\'t fair. This is more then that. Because of one difference. All of thieves in this movie have very small wishes when they are asked: what will they do with their money? It is mostly securing their future in very humble way. This fact goes beyond comedy into the soul of that criminals. And not only them but also cop Babitch, who is presented like corrupted one; so here directors Russo presents us fact that criminals and cop are the same. Actually all in Collinwood are; and not only in Collinwood, cause all people chase money, on legal or illegal way. I don\\'t like all movies were audience eventually likes and cheers for thieves. But, this one is exception. You have to love them all. Riley with his little baby and wife in jail. Toto with his pants. Cosimo with his line: \"Your mother\\'s a whore!\" and all others. They are just like characters in my favorite comic, Alan Ford. They all trying to make some money, but simply they are out of luck. But they all did one good deed: they gave money to Riley, so he can get his wife out of prison. They are all heroes in my eyes, cause lots of \"honest\" people wouldn\\'t do that.']\n",
            "Similarity:  968.0\n",
            "Similiar Reviews: [\"Probably because this is Columbia's first film in color, the colors look different specially in the indoor scenes. They seem to be stronger, sharper and the result is a bit unrealistic, but very pleasing. Randolph Scott is the sheriff, a good guy but the real star of the movie is a very young Glenn Ford, who is an outlaw that wants to change. Evelyn Keyes is the woman that starts falling for Ford and Claire Trevor is the Countess that runs the saloon. There is a funny character called Nitro that does not think twice before blowing it. I particularly enjoyed two moments of the film, one when there is a tremendous horse stampede and you see thousands of horses, there was no computer to help at that time, so I presume they must have gathered all those horses, no easy task. Another moment is the final shootout, technically very good. There is also quite a fistfight. Seeing this western made in 1943 with such great action scenes, makes you come to a sad conclusion: They don't make them anymore. Would they be able to in case they wanted? I have my doubts.\"] and ['Cosimo (Luis Guzman) ends up in prison for car burglary and there he\\'s given the plan for the perfect heist from a lifer in prison; so he has to get out of jail, fast. He tells his girlfriend Rosalind (Patricia Clarkson) to find a man who will do his time in prison for some money. But no one wants to do the time for Cosimo\\'s crime and yet everybody seems to know a guy who will do that. Soon bad boxer Pero Mahalovic (Sam Rockwell) founds out the details of this so called \"perfect job\".<br /><br />First of all, I think this movie was very funny and from my point of view I would recommend it to everyone. This movie is remake of Italian comedy \"I Soliti Ignoti\". I didn\\'t watch the Italian original so I cannot judge or compare those two movies. But \"Welcome to Collinwood\" is great comedy for itself, about four people trying to rob the money from the vault in one house. Everyone gave their part of brilliance from this movie cast. Really excellent movie for these actors: Sam Rockwell, William H. Macy (great), Isaiah Washington, Michael Jeter (great), Luis Guzmán, Patricia Clarkson, Jennifer Esposito and finally George Clooney gave their share in this project. <br /><br />Maybe to say that this movie is only comedy, isn\\'t fair. This is more then that. Because of one difference. All of thieves in this movie have very small wishes when they are asked: what will they do with their money? It is mostly securing their future in very humble way. This fact goes beyond comedy into the soul of that criminals. And not only them but also cop Babitch, who is presented like corrupted one; so here directors Russo presents us fact that criminals and cop are the same. Actually all in Collinwood are; and not only in Collinwood, cause all people chase money, on legal or illegal way. I don\\'t like all movies were audience eventually likes and cheers for thieves. But, this one is exception. You have to love them all. Riley with his little baby and wife in jail. Toto with his pants. Cosimo with his line: \"Your mother\\'s a whore!\" and all others. They are just like characters in my favorite comic, Alan Ford. They all trying to make some money, but simply they are out of luck. But they all did one good deed: they gave money to Riley, so he can get his wife out of prison. They are all heroes in my eyes, cause lots of \"honest\" people wouldn\\'t do that.']\n",
            "Similarity:  9.0\n",
            "Similiar Reviews: [\"In a word, god-awful... too many plot holes.. um, yeah... Who takes their kid to dig up a dead body in the middle of the night? and what's up with his wife stealing the skeleton.. who does that? why, exactly did the shrink stab himself in the neck? and that whole dog thing.. i mean, really! Having Sparrow narrate from the beginning also just completely destroyed the suspense for me.. i mean, if he's narrating the story, clearly he's lived to tell it, so there's no chance of him getting offed.. where's the suspense there? <br /><br />Of course, you expect plot holes in a film like this. But, there are so many I lost track of the story completely because of them. What kind of name is Fingerling? Or Toppsy? Why did the wife dig up the body? (Who does that?) or go into that crazy spooky asylum alone? and where'd all those candles come from? Why does the writer have his PO BOX in the freaking book??? I mean come on... And the book just happens to find its way to the bookstore next door to the wife's bakery?? Way too convenient... Oh and Happy Birthday Honey, here's a book about a serial killer.. What a THOUGHTFUL gift! The book is like 20 pages long, half of which are blank, and it takes him freaking FOREVER to read it. If he's truly obsessed with this book, wouldn't he have read it all in one shot?<br /><br />A bit convenient for him to bump into his future wife (carrying a cake!) about 23 seconds after being released from a mental hospital.. how old was he playing? 36?? <br /><br />Was I the only one at the end rooting for the bus to actually run the guy down? Not good when you're rooting for the protagonist to bite it in the end.<br /><br />It seems like this was written by committee.. I imagine that the first draft probably had nothing to do with the number 23... It seems as if they needed a gimmicky hook to bait the audience into thinking there was some supernatural thing going on, when in the end it really didn't seem to have anything to do with anything. I mean, I wasn't expecting the Godfather or anything, but everything about this film was a total let-down. Without all the numerology stuff, this movie could actually have been OK, instead of some hackneyed Se7en knockoff.<br /><br />Not scary, unintentionally hilarious and otherwise a total snoozer.\"] and ['Cosimo (Luis Guzman) ends up in prison for car burglary and there he\\'s given the plan for the perfect heist from a lifer in prison; so he has to get out of jail, fast. He tells his girlfriend Rosalind (Patricia Clarkson) to find a man who will do his time in prison for some money. But no one wants to do the time for Cosimo\\'s crime and yet everybody seems to know a guy who will do that. Soon bad boxer Pero Mahalovic (Sam Rockwell) founds out the details of this so called \"perfect job\".<br /><br />First of all, I think this movie was very funny and from my point of view I would recommend it to everyone. This movie is remake of Italian comedy \"I Soliti Ignoti\". I didn\\'t watch the Italian original so I cannot judge or compare those two movies. But \"Welcome to Collinwood\" is great comedy for itself, about four people trying to rob the money from the vault in one house. Everyone gave their part of brilliance from this movie cast. Really excellent movie for these actors: Sam Rockwell, William H. Macy (great), Isaiah Washington, Michael Jeter (great), Luis Guzmán, Patricia Clarkson, Jennifer Esposito and finally George Clooney gave their share in this project. <br /><br />Maybe to say that this movie is only comedy, isn\\'t fair. This is more then that. Because of one difference. All of thieves in this movie have very small wishes when they are asked: what will they do with their money? It is mostly securing their future in very humble way. This fact goes beyond comedy into the soul of that criminals. And not only them but also cop Babitch, who is presented like corrupted one; so here directors Russo presents us fact that criminals and cop are the same. Actually all in Collinwood are; and not only in Collinwood, cause all people chase money, on legal or illegal way. I don\\'t like all movies were audience eventually likes and cheers for thieves. But, this one is exception. You have to love them all. Riley with his little baby and wife in jail. Toto with his pants. Cosimo with his line: \"Your mother\\'s a whore!\" and all others. They are just like characters in my favorite comic, Alan Ford. They all trying to make some money, but simply they are out of luck. But they all did one good deed: they gave money to Riley, so he can get his wife out of prison. They are all heroes in my eyes, cause lots of \"honest\" people wouldn\\'t do that.']\n",
            "Similarity:  1740.0\n",
            "Similiar Reviews: ['Genius or utter madness? That depends on your interpretation of this film. I responded to it on the level of a self-aware \"cop-movie parody\", and I sincerely hope that was the intention as I don\\'t see anyone taking it seriously! :-D Paul Rudd for one seems to be chewing up the scenery and really getting into the spirit of things! Is this film supposed to mark a departure for Rudd from his core background in the comedy genre? Some kind of insane attempt to reinvent him as a hard-boiled action star? I think not! <br /><br />With the cheesy, almost awkward acting, low budget FX, and zany over-the-top action set pieces, it all kinda evoked that old TV show \"Sledge Hammer\" for me! HILARIOUS!!! :-)<br /><br />Of course, I may have totally interpreted the film wrong. If it was in fact an attempt at a \\'straight\\' action movie, then it was certainly an amusing failure!!<br /><br />Watch with lots of alcohol and some mates!!! ;-)'] and ['Cosimo (Luis Guzman) ends up in prison for car burglary and there he\\'s given the plan for the perfect heist from a lifer in prison; so he has to get out of jail, fast. He tells his girlfriend Rosalind (Patricia Clarkson) to find a man who will do his time in prison for some money. But no one wants to do the time for Cosimo\\'s crime and yet everybody seems to know a guy who will do that. Soon bad boxer Pero Mahalovic (Sam Rockwell) founds out the details of this so called \"perfect job\".<br /><br />First of all, I think this movie was very funny and from my point of view I would recommend it to everyone. This movie is remake of Italian comedy \"I Soliti Ignoti\". I didn\\'t watch the Italian original so I cannot judge or compare those two movies. But \"Welcome to Collinwood\" is great comedy for itself, about four people trying to rob the money from the vault in one house. Everyone gave their part of brilliance from this movie cast. Really excellent movie for these actors: Sam Rockwell, William H. Macy (great), Isaiah Washington, Michael Jeter (great), Luis Guzmán, Patricia Clarkson, Jennifer Esposito and finally George Clooney gave their share in this project. <br /><br />Maybe to say that this movie is only comedy, isn\\'t fair. This is more then that. Because of one difference. All of thieves in this movie have very small wishes when they are asked: what will they do with their money? It is mostly securing their future in very humble way. This fact goes beyond comedy into the soul of that criminals. And not only them but also cop Babitch, who is presented like corrupted one; so here directors Russo presents us fact that criminals and cop are the same. Actually all in Collinwood are; and not only in Collinwood, cause all people chase money, on legal or illegal way. I don\\'t like all movies were audience eventually likes and cheers for thieves. But, this one is exception. You have to love them all. Riley with his little baby and wife in jail. Toto with his pants. Cosimo with his line: \"Your mother\\'s a whore!\" and all others. They are just like characters in my favorite comic, Alan Ford. They all trying to make some money, but simply they are out of luck. But they all did one good deed: they gave money to Riley, so he can get his wife out of prison. They are all heroes in my eyes, cause lots of \"honest\" people wouldn\\'t do that.']\n",
            "Similarity:  545.0\n",
            "Similiar Reviews: ['This is one of the worst movies, I\\'ve ever seen. Not only, that it is a comedy, which isn\\'t funny, but it\\'s also very badly made with an over the top direction full of unnecessary split screens and other effects.<br /><br />The two \"heroes\" with their fantasy language are just annoying and it confused me quite a lot, that they touched each others genitals all the time. But the worst of all that nonsense is the cheap attempt to give that movie some appeal, by referring to German history and to show sensitive aspects of the \"heroes\", which finds its climax in showing how Erkan and Stefan cure a mentally ill woman with their \"joyful\" lifestyle (!). But I hadn\\'t expect anything better by director Michael \"Bully\" Herbig, who also made two not funny TV-shows, a not funny western movie and a nearly not funny SF-comedy movie. But Erkan and Stefan had been- just a little- better in some of their stand-up programs. For me the only good thing about the movie is Alexandra Neldel, who is very beautiful to me.'] and ['Cosimo (Luis Guzman) ends up in prison for car burglary and there he\\'s given the plan for the perfect heist from a lifer in prison; so he has to get out of jail, fast. He tells his girlfriend Rosalind (Patricia Clarkson) to find a man who will do his time in prison for some money. But no one wants to do the time for Cosimo\\'s crime and yet everybody seems to know a guy who will do that. Soon bad boxer Pero Mahalovic (Sam Rockwell) founds out the details of this so called \"perfect job\".<br /><br />First of all, I think this movie was very funny and from my point of view I would recommend it to everyone. This movie is remake of Italian comedy \"I Soliti Ignoti\". I didn\\'t watch the Italian original so I cannot judge or compare those two movies. But \"Welcome to Collinwood\" is great comedy for itself, about four people trying to rob the money from the vault in one house. Everyone gave their part of brilliance from this movie cast. Really excellent movie for these actors: Sam Rockwell, William H. Macy (great), Isaiah Washington, Michael Jeter (great), Luis Guzmán, Patricia Clarkson, Jennifer Esposito and finally George Clooney gave their share in this project. <br /><br />Maybe to say that this movie is only comedy, isn\\'t fair. This is more then that. Because of one difference. All of thieves in this movie have very small wishes when they are asked: what will they do with their money? It is mostly securing their future in very humble way. This fact goes beyond comedy into the soul of that criminals. And not only them but also cop Babitch, who is presented like corrupted one; so here directors Russo presents us fact that criminals and cop are the same. Actually all in Collinwood are; and not only in Collinwood, cause all people chase money, on legal or illegal way. I don\\'t like all movies were audience eventually likes and cheers for thieves. But, this one is exception. You have to love them all. Riley with his little baby and wife in jail. Toto with his pants. Cosimo with his line: \"Your mother\\'s a whore!\" and all others. They are just like characters in my favorite comic, Alan Ford. They all trying to make some money, but simply they are out of luck. But they all did one good deed: they gave money to Riley, so he can get his wife out of prison. They are all heroes in my eyes, cause lots of \"honest\" people wouldn\\'t do that.']\n",
            "Similarity:  464.0\n",
            "Similiar Reviews: ['This movie was one of the rolling on the floor laughing movies I have ever seen. Danny De Vito plays Owen perfectly. Momma is excellently portrayed, and was one of the highlights of the movie.<br /><br />At the beginning of the movie it starts of differently then what you would expect. Larry is trying to write a book and is having some troubles. Larry teaches a writing class and Owen tagged after Larry trying to get him to read his story. Owen eventually asks Larry to kill his mother, and in return Owen would kill Larry\\'s ex-wife. The whole movie was really hilarious.<br /><br />One of my favorite parts of the movie is at the end when Owen writes \"Throw Momma from the Train\". Larry gets furious because he just wrote a book of similar plot. It turns out that Owen wrote a children\\'s pop-up book.<br /><br />I would really recommend this movie. I gave it a 10.'] and ['Cosimo (Luis Guzman) ends up in prison for car burglary and there he\\'s given the plan for the perfect heist from a lifer in prison; so he has to get out of jail, fast. He tells his girlfriend Rosalind (Patricia Clarkson) to find a man who will do his time in prison for some money. But no one wants to do the time for Cosimo\\'s crime and yet everybody seems to know a guy who will do that. Soon bad boxer Pero Mahalovic (Sam Rockwell) founds out the details of this so called \"perfect job\".<br /><br />First of all, I think this movie was very funny and from my point of view I would recommend it to everyone. This movie is remake of Italian comedy \"I Soliti Ignoti\". I didn\\'t watch the Italian original so I cannot judge or compare those two movies. But \"Welcome to Collinwood\" is great comedy for itself, about four people trying to rob the money from the vault in one house. Everyone gave their part of brilliance from this movie cast. Really excellent movie for these actors: Sam Rockwell, William H. Macy (great), Isaiah Washington, Michael Jeter (great), Luis Guzmán, Patricia Clarkson, Jennifer Esposito and finally George Clooney gave their share in this project. <br /><br />Maybe to say that this movie is only comedy, isn\\'t fair. This is more then that. Because of one difference. All of thieves in this movie have very small wishes when they are asked: what will they do with their money? It is mostly securing their future in very humble way. This fact goes beyond comedy into the soul of that criminals. And not only them but also cop Babitch, who is presented like corrupted one; so here directors Russo presents us fact that criminals and cop are the same. Actually all in Collinwood are; and not only in Collinwood, cause all people chase money, on legal or illegal way. I don\\'t like all movies were audience eventually likes and cheers for thieves. But, this one is exception. You have to love them all. Riley with his little baby and wife in jail. Toto with his pants. Cosimo with his line: \"Your mother\\'s a whore!\" and all others. They are just like characters in my favorite comic, Alan Ford. They all trying to make some money, but simply they are out of luck. But they all did one good deed: they gave money to Riley, so he can get his wife out of prison. They are all heroes in my eyes, cause lots of \"honest\" people wouldn\\'t do that.']\n",
            "Similarity:  584.0\n",
            "Similiar Reviews: ['Of the four main players in here - John Candy, Jean Kelly, Amy Madigan and Macauley Caulkin - the only one I\\'ve never heard about (at that time) was the one that annoyed the heck out of me and ruined the film. Well, she must have done a decent job of acting to make me want to throw her and the VHS into the garbage pail. I am referring to Kelly in the role of teenage brat, \"Tia Russell.\" Ironically, six years later she played a stunning and extremely likable role in the person of \"Rowena Morgan\" in \"Mr. Holland\\'s Opus.\"<br /><br />Candy, as usual, is fun to watch as \"Buck Russell,\" or the title character, \"Uncle Buck.\" Few actors were better at playing a lovable, hapless slob than Candy. I enjoyed his character in here, but I cannot watch that spoiled teen girl more than once. Also, in the first few minutes of the film, the little boy \"Miles\" (Cauklin) says the word \"G-damn.\" How bad is that, having a six-year-old kid saying the Lord\\'s name in vain on film? These Hollywood people are such sickos. No wonder many of their child actors turn out to be mentally screwed up, Caulkin being a case in point.'] and ['Cosimo (Luis Guzman) ends up in prison for car burglary and there he\\'s given the plan for the perfect heist from a lifer in prison; so he has to get out of jail, fast. He tells his girlfriend Rosalind (Patricia Clarkson) to find a man who will do his time in prison for some money. But no one wants to do the time for Cosimo\\'s crime and yet everybody seems to know a guy who will do that. Soon bad boxer Pero Mahalovic (Sam Rockwell) founds out the details of this so called \"perfect job\".<br /><br />First of all, I think this movie was very funny and from my point of view I would recommend it to everyone. This movie is remake of Italian comedy \"I Soliti Ignoti\". I didn\\'t watch the Italian original so I cannot judge or compare those two movies. But \"Welcome to Collinwood\" is great comedy for itself, about four people trying to rob the money from the vault in one house. Everyone gave their part of brilliance from this movie cast. Really excellent movie for these actors: Sam Rockwell, William H. Macy (great), Isaiah Washington, Michael Jeter (great), Luis Guzmán, Patricia Clarkson, Jennifer Esposito and finally George Clooney gave their share in this project. <br /><br />Maybe to say that this movie is only comedy, isn\\'t fair. This is more then that. Because of one difference. All of thieves in this movie have very small wishes when they are asked: what will they do with their money? It is mostly securing their future in very humble way. This fact goes beyond comedy into the soul of that criminals. And not only them but also cop Babitch, who is presented like corrupted one; so here directors Russo presents us fact that criminals and cop are the same. Actually all in Collinwood are; and not only in Collinwood, cause all people chase money, on legal or illegal way. I don\\'t like all movies were audience eventually likes and cheers for thieves. But, this one is exception. You have to love them all. Riley with his little baby and wife in jail. Toto with his pants. Cosimo with his line: \"Your mother\\'s a whore!\" and all others. They are just like characters in my favorite comic, Alan Ford. They all trying to make some money, but simply they are out of luck. But they all did one good deed: they gave money to Riley, so he can get his wife out of prison. They are all heroes in my eyes, cause lots of \"honest\" people wouldn\\'t do that.']\n",
            "Similarity:  870.0\n",
            "Similiar Reviews: ['1 let\\'s suspend belief for a moment and let\\'s stop pretending we could, might or ought know \"how it is\" or \"ought to be\" there in space. Human knowledge in that area is probably primitive as say middle ages maps are compared to today\\'s satellite maps, so we really have no clue. 2 considering this is \"just\" a BBC TV docu-simulation, it gets much better than many big budget Hollywood blockbusters, and that is just incredible. 3 all in all, a show worth watching as it portrays the CGI enhanced and fictionalized account of what we know of the solar system this far. 4 probably fictionalizing and CGI-ing the whole thing is the only way to make it palatable to a large public. Ever watched clips from REAL space missions and REAL space probes? The quality is generally average to poor and the comparison would be between looking at a chest x-ray (and what it tells about the human body ) and compare it with a CGI-ed cyborg movie...which one would be most entertaining? Yet the chest x-ray is real, while the cyborg flick is just fictionalized SFX. 5 actors do a good job. None i\\'ll tell my grandchildren about, but very fair for it being a BBC docu-simulation.'] and ['Cosimo (Luis Guzman) ends up in prison for car burglary and there he\\'s given the plan for the perfect heist from a lifer in prison; so he has to get out of jail, fast. He tells his girlfriend Rosalind (Patricia Clarkson) to find a man who will do his time in prison for some money. But no one wants to do the time for Cosimo\\'s crime and yet everybody seems to know a guy who will do that. Soon bad boxer Pero Mahalovic (Sam Rockwell) founds out the details of this so called \"perfect job\".<br /><br />First of all, I think this movie was very funny and from my point of view I would recommend it to everyone. This movie is remake of Italian comedy \"I Soliti Ignoti\". I didn\\'t watch the Italian original so I cannot judge or compare those two movies. But \"Welcome to Collinwood\" is great comedy for itself, about four people trying to rob the money from the vault in one house. Everyone gave their part of brilliance from this movie cast. Really excellent movie for these actors: Sam Rockwell, William H. Macy (great), Isaiah Washington, Michael Jeter (great), Luis Guzmán, Patricia Clarkson, Jennifer Esposito and finally George Clooney gave their share in this project. <br /><br />Maybe to say that this movie is only comedy, isn\\'t fair. This is more then that. Because of one difference. All of thieves in this movie have very small wishes when they are asked: what will they do with their money? It is mostly securing their future in very humble way. This fact goes beyond comedy into the soul of that criminals. And not only them but also cop Babitch, who is presented like corrupted one; so here directors Russo presents us fact that criminals and cop are the same. Actually all in Collinwood are; and not only in Collinwood, cause all people chase money, on legal or illegal way. I don\\'t like all movies were audience eventually likes and cheers for thieves. But, this one is exception. You have to love them all. Riley with his little baby and wife in jail. Toto with his pants. Cosimo with his line: \"Your mother\\'s a whore!\" and all others. They are just like characters in my favorite comic, Alan Ford. They all trying to make some money, but simply they are out of luck. But they all did one good deed: they gave money to Riley, so he can get his wife out of prison. They are all heroes in my eyes, cause lots of \"honest\" people wouldn\\'t do that.']\n",
            "Similarity:  537.0\n",
            "Similiar Reviews: ['\"Direct-to-video\" is a phrase that never sounds promising to the consumer unless its a direct-to-video sequel to something that went direct-to-video in the first place. Despite this, studios have insisted on releasing numerous direct-to-video sequels over the years to cult hits. I don\\'t think it even needs to be mentioned that these sequels rank among some of the worst titles of all time, including THE HITCHER II, STARSHIP TROOPERS 2, and CRUEL INTENTIONS 3. It\\'s fitting that ROAD HOUSE 2 was helmed by Scott Ziehl as he was also the man in charge of ruining the Cruel Intentions series. Like his entry in the Cruel Intentions trilogy, Ziehl takes elements that made the first ROAD HOUSE a great guy flick, and rehashes them with no success whatsoever. This is no sequel, this is a remake all the way. Various lines from the original are repeated, plot points cut and pasted, and scenes are replicated almost shot-for-shot from the first one. The one thing that could not be duplicated were the amazing fight scenes, which made ROAD HOUSE what it was. Here, we get clumsily directed fight sequences that are either too short or too long and seemingly planned out and shot within an hour. Compare that with its predecessor\\'s fight scenes that look like they took months and months to prepare. Ziehl is capable of directing action as he did well with the 2001 remake of EARTH VS. THE SPIDER, but none of the talent shown there comes through in this mess. It\\'s not completely his fault, as the screenplay is very, very poorly written and clunky. I don\\'t care if something goes direct-to-video, a good script is still required. Someone should keep that mind while continuously churning these low-budget, direct-to-DVD movies out. Skip it entirely. 1/10'] and ['Cosimo (Luis Guzman) ends up in prison for car burglary and there he\\'s given the plan for the perfect heist from a lifer in prison; so he has to get out of jail, fast. He tells his girlfriend Rosalind (Patricia Clarkson) to find a man who will do his time in prison for some money. But no one wants to do the time for Cosimo\\'s crime and yet everybody seems to know a guy who will do that. Soon bad boxer Pero Mahalovic (Sam Rockwell) founds out the details of this so called \"perfect job\".<br /><br />First of all, I think this movie was very funny and from my point of view I would recommend it to everyone. This movie is remake of Italian comedy \"I Soliti Ignoti\". I didn\\'t watch the Italian original so I cannot judge or compare those two movies. But \"Welcome to Collinwood\" is great comedy for itself, about four people trying to rob the money from the vault in one house. Everyone gave their part of brilliance from this movie cast. Really excellent movie for these actors: Sam Rockwell, William H. Macy (great), Isaiah Washington, Michael Jeter (great), Luis Guzmán, Patricia Clarkson, Jennifer Esposito and finally George Clooney gave their share in this project. <br /><br />Maybe to say that this movie is only comedy, isn\\'t fair. This is more then that. Because of one difference. All of thieves in this movie have very small wishes when they are asked: what will they do with their money? It is mostly securing their future in very humble way. This fact goes beyond comedy into the soul of that criminals. And not only them but also cop Babitch, who is presented like corrupted one; so here directors Russo presents us fact that criminals and cop are the same. Actually all in Collinwood are; and not only in Collinwood, cause all people chase money, on legal or illegal way. I don\\'t like all movies were audience eventually likes and cheers for thieves. But, this one is exception. You have to love them all. Riley with his little baby and wife in jail. Toto with his pants. Cosimo with his line: \"Your mother\\'s a whore!\" and all others. They are just like characters in my favorite comic, Alan Ford. They all trying to make some money, but simply they are out of luck. But they all did one good deed: they gave money to Riley, so he can get his wife out of prison. They are all heroes in my eyes, cause lots of \"honest\" people wouldn\\'t do that.']\n",
            "Similarity:  1044.0\n"
          ],
          "name": "stdout"
        }
      ]
    }
  ]
}